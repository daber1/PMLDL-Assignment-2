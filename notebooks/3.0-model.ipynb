{
 "cells": [
  {
   "cell_type": "markdown",
   "source": [
    "# 1. Importing Libraries"
   ],
   "metadata": {
    "collapsed": false
   }
  },
  {
   "cell_type": "code",
   "execution_count": 62,
   "metadata": {
    "collapsed": true,
    "ExecuteTime": {
     "end_time": "2023-12-01T20:12:19.884922300Z",
     "start_time": "2023-12-01T20:12:19.865653500Z"
    }
   },
   "outputs": [],
   "source": [
    "import pandas as pd\n",
    "import numpy as np\n",
    "import surprise"
   ]
  },
  {
   "cell_type": "markdown",
   "source": [
    "# 2. Importing Dataset"
   ],
   "metadata": {
    "collapsed": false
   }
  },
  {
   "cell_type": "code",
   "execution_count": 79,
   "outputs": [],
   "source": [
    "dataset = pd.read_csv('../data/interim/user_item_matrix.csv')"
   ],
   "metadata": {
    "collapsed": false,
    "ExecuteTime": {
     "end_time": "2023-12-01T20:40:35.351145300Z",
     "start_time": "2023-12-01T20:40:35.313129400Z"
    }
   }
  },
  {
   "cell_type": "code",
   "execution_count": 80,
   "outputs": [
    {
     "data": {
      "text/plain": "   user_id  item_id  rating\n0      196      242       3\n1      186      302       3\n2       22      377       1\n3      244       51       2\n4      166      346       1",
      "text/html": "<div>\n<style scoped>\n    .dataframe tbody tr th:only-of-type {\n        vertical-align: middle;\n    }\n\n    .dataframe tbody tr th {\n        vertical-align: top;\n    }\n\n    .dataframe thead th {\n        text-align: right;\n    }\n</style>\n<table border=\"1\" class=\"dataframe\">\n  <thead>\n    <tr style=\"text-align: right;\">\n      <th></th>\n      <th>user_id</th>\n      <th>item_id</th>\n      <th>rating</th>\n    </tr>\n  </thead>\n  <tbody>\n    <tr>\n      <th>0</th>\n      <td>196</td>\n      <td>242</td>\n      <td>3</td>\n    </tr>\n    <tr>\n      <th>1</th>\n      <td>186</td>\n      <td>302</td>\n      <td>3</td>\n    </tr>\n    <tr>\n      <th>2</th>\n      <td>22</td>\n      <td>377</td>\n      <td>1</td>\n    </tr>\n    <tr>\n      <th>3</th>\n      <td>244</td>\n      <td>51</td>\n      <td>2</td>\n    </tr>\n    <tr>\n      <th>4</th>\n      <td>166</td>\n      <td>346</td>\n      <td>1</td>\n    </tr>\n  </tbody>\n</table>\n</div>"
     },
     "execution_count": 80,
     "metadata": {},
     "output_type": "execute_result"
    }
   ],
   "source": [
    "dataset.head()"
   ],
   "metadata": {
    "collapsed": false,
    "ExecuteTime": {
     "end_time": "2023-12-01T20:40:37.577702700Z",
     "start_time": "2023-12-01T20:40:37.553708900Z"
    }
   }
  },
  {
   "cell_type": "markdown",
   "source": [
    "# 3. Training"
   ],
   "metadata": {
    "collapsed": false
   }
  },
  {
   "cell_type": "code",
   "execution_count": 65,
   "outputs": [],
   "source": [
    "reader = surprise.Reader(rating_scale=(1, 5))\n",
    "data = surprise.Dataset.load_from_df(dataset[['user_id', 'item_id', 'rating']], reader)"
   ],
   "metadata": {
    "collapsed": false,
    "ExecuteTime": {
     "end_time": "2023-12-01T20:12:24.766009500Z",
     "start_time": "2023-12-01T20:12:24.689011800Z"
    }
   }
  },
  {
   "cell_type": "code",
   "execution_count": 18,
   "outputs": [],
   "source": [
    "from surprise.model_selection import cross_validate\n",
    "from surprise import SVD, SVDpp, SlopeOne, NMF, CoClustering, NormalPredictor, KNNBaseline, BaselineOnly, KNNWithZScore, \\\n",
    "    KNNWithMeans, KNNBasic"
   ],
   "metadata": {
    "collapsed": false,
    "ExecuteTime": {
     "end_time": "2023-12-01T13:46:50.352834900Z",
     "start_time": "2023-12-01T13:46:50.333269Z"
    }
   }
  },
  {
   "cell_type": "code",
   "execution_count": 43,
   "outputs": [
    {
     "name": "stdout",
     "output_type": "stream",
     "text": [
      "Training:  SVD\n",
      "Done:  SVD\n",
      "Training:  SVDpp\n",
      "Done:  SVDpp\n",
      "Training:  SlopeOne\n",
      "Done:  SlopeOne\n",
      "Training:  NMF\n",
      "Done:  NMF\n",
      "Training:  NormalPredictor\n",
      "Done:  NormalPredictor\n",
      "Training:  KNNBaseline\n",
      "Estimating biases using als...\n",
      "Computing the msd similarity matrix...\n",
      "Done computing similarity matrix.\n",
      "Estimating biases using als...\n",
      "Computing the msd similarity matrix...\n",
      "Done computing similarity matrix.\n",
      "Estimating biases using als...\n",
      "Computing the msd similarity matrix...\n",
      "Done computing similarity matrix.\n",
      "Done:  KNNBaseline\n",
      "Training:  KNNBasic\n",
      "Computing the msd similarity matrix...\n",
      "Done computing similarity matrix.\n",
      "Computing the msd similarity matrix...\n",
      "Done computing similarity matrix.\n",
      "Computing the msd similarity matrix...\n",
      "Done computing similarity matrix.\n",
      "Done:  KNNBasic\n",
      "Training:  KNNWithMeans\n",
      "Computing the msd similarity matrix...\n",
      "Done computing similarity matrix.\n",
      "Computing the msd similarity matrix...\n",
      "Done computing similarity matrix.\n",
      "Computing the msd similarity matrix...\n",
      "Done computing similarity matrix.\n",
      "Done:  KNNWithMeans\n",
      "Training:  KNNWithZScore\n",
      "Computing the msd similarity matrix...\n",
      "Done computing similarity matrix.\n",
      "Computing the msd similarity matrix...\n",
      "Done computing similarity matrix.\n",
      "Computing the msd similarity matrix...\n",
      "Done computing similarity matrix.\n",
      "Done:  KNNWithZScore\n",
      "Training:  BaselineOnly\n",
      "Estimating biases using als...\n",
      "Estimating biases using als...\n",
      "Estimating biases using als...\n",
      "Done:  BaselineOnly\n",
      "Training:  CoClustering\n",
      "Done:  CoClustering\n"
     ]
    }
   ],
   "source": [
    "np.random.seed(42)\n",
    "scores = []\n",
    "\n",
    "# algorithms = [SVD(), SVDpp(), SlopeOne(), NMF(), CoClustering()]\n",
    "# I wasnt satisfied with the results and decided to add some more algorithms to try\n",
    "algorithms = [SVD(), SVDpp(), SlopeOne(), NMF(), NormalPredictor(), KNNBaseline(), KNNBasic(), KNNWithMeans(), KNNWithZScore(), BaselineOnly(), CoClustering()]\n",
    "\n",
    "algorithms_names = ['SVD', 'SVDpp', 'SlopeOne', 'NMF', 'NormalPredictor', 'KNNBaseline', 'KNNBasic', 'KNNWithMeans', 'KNNWithZScore', 'BaselineOnly', 'CoClustering']\n",
    "for i in range(len(algorithms)):\n",
    "    print(\"Training: \", algorithms_names[i])\n",
    "    results = cross_validate(algorithms[i], data, measures=['RMSE'], cv=3, verbose=False)\n",
    "\n",
    "    tmp = pd.DataFrame.from_dict(results).mean(axis=0)\n",
    "    scores.append(tmp)\n",
    "    print(\"Done: \", algorithms_names[i])\n"
   ],
   "metadata": {
    "collapsed": false,
    "ExecuteTime": {
     "end_time": "2023-11-30T16:40:19.412785300Z",
     "start_time": "2023-11-30T16:38:30.543482800Z"
    }
   }
  },
  {
   "cell_type": "code",
   "execution_count": 46,
   "outputs": [],
   "source": [
    "benchmark = pd.DataFrame(scores, index=algorithms_names).sort_values('test_rmse')"
   ],
   "metadata": {
    "collapsed": false,
    "ExecuteTime": {
     "end_time": "2023-11-30T16:40:33.346524Z",
     "start_time": "2023-11-30T16:40:33.326521800Z"
    }
   }
  },
  {
   "cell_type": "code",
   "execution_count": 47,
   "outputs": [
    {
     "data": {
      "text/plain": "                 test_rmse  fit_time  test_time\nSVDpp             0.929427  9.195778   4.501023\nKNNBaseline       0.936297  0.382690   3.554580\nSVD               0.945918  0.680010   0.173367\nBaselineOnly      0.947652  0.138998   0.138340\nSlopeOne          0.949663  0.349993   2.432777\nKNNWithZScore     0.956647  0.334333   3.344607\nKNNWithMeans      0.957450  0.280987   3.173004\nCoClustering      0.968217  1.532267   0.166334\nNMF               0.974666  1.168703   0.160672\nKNNBasic          0.987384  0.254972   2.974845\nNormalPredictor   1.520466  0.079336   0.135324",
      "text/html": "<div>\n<style scoped>\n    .dataframe tbody tr th:only-of-type {\n        vertical-align: middle;\n    }\n\n    .dataframe tbody tr th {\n        vertical-align: top;\n    }\n\n    .dataframe thead th {\n        text-align: right;\n    }\n</style>\n<table border=\"1\" class=\"dataframe\">\n  <thead>\n    <tr style=\"text-align: right;\">\n      <th></th>\n      <th>test_rmse</th>\n      <th>fit_time</th>\n      <th>test_time</th>\n    </tr>\n  </thead>\n  <tbody>\n    <tr>\n      <th>SVDpp</th>\n      <td>0.929427</td>\n      <td>9.195778</td>\n      <td>4.501023</td>\n    </tr>\n    <tr>\n      <th>KNNBaseline</th>\n      <td>0.936297</td>\n      <td>0.382690</td>\n      <td>3.554580</td>\n    </tr>\n    <tr>\n      <th>SVD</th>\n      <td>0.945918</td>\n      <td>0.680010</td>\n      <td>0.173367</td>\n    </tr>\n    <tr>\n      <th>BaselineOnly</th>\n      <td>0.947652</td>\n      <td>0.138998</td>\n      <td>0.138340</td>\n    </tr>\n    <tr>\n      <th>SlopeOne</th>\n      <td>0.949663</td>\n      <td>0.349993</td>\n      <td>2.432777</td>\n    </tr>\n    <tr>\n      <th>KNNWithZScore</th>\n      <td>0.956647</td>\n      <td>0.334333</td>\n      <td>3.344607</td>\n    </tr>\n    <tr>\n      <th>KNNWithMeans</th>\n      <td>0.957450</td>\n      <td>0.280987</td>\n      <td>3.173004</td>\n    </tr>\n    <tr>\n      <th>CoClustering</th>\n      <td>0.968217</td>\n      <td>1.532267</td>\n      <td>0.166334</td>\n    </tr>\n    <tr>\n      <th>NMF</th>\n      <td>0.974666</td>\n      <td>1.168703</td>\n      <td>0.160672</td>\n    </tr>\n    <tr>\n      <th>KNNBasic</th>\n      <td>0.987384</td>\n      <td>0.254972</td>\n      <td>2.974845</td>\n    </tr>\n    <tr>\n      <th>NormalPredictor</th>\n      <td>1.520466</td>\n      <td>0.079336</td>\n      <td>0.135324</td>\n    </tr>\n  </tbody>\n</table>\n</div>"
     },
     "execution_count": 47,
     "metadata": {},
     "output_type": "execute_result"
    }
   ],
   "source": [
    "benchmark"
   ],
   "metadata": {
    "collapsed": false,
    "ExecuteTime": {
     "end_time": "2023-11-30T16:40:34.418888400Z",
     "start_time": "2023-11-30T16:40:34.396879800Z"
    }
   }
  },
  {
   "cell_type": "markdown",
   "source": [
    "After the expanding the algorithms list, I got the same result. SVDpp is the best algorithm(among these) for this dataset."
   ],
   "metadata": {
    "collapsed": false
   }
  },
  {
   "cell_type": "markdown",
   "source": [
    "# 4. Fine Tuning"
   ],
   "metadata": {
    "collapsed": false
   }
  },
  {
   "cell_type": "code",
   "execution_count": 19,
   "outputs": [],
   "source": [
    "from surprise.model_selection import GridSearchCV\n",
    "param_grid = {\n",
    "    \"n_epochs\": [40, 50, 100],\n",
    "    \"lr_all\": [0.004, 0.006, 0.005],\n",
    "    \"reg_all\": [0.08, 0.09, 0.07],\n",
    "    \"n_factors\": [15,20,25]\n",
    "}\n",
    "gs = GridSearchCV(SVDpp, param_grid, measures=['rmse'], cv=5)\n",
    "gs.fit(data)"
   ],
   "metadata": {
    "collapsed": false,
    "ExecuteTime": {
     "end_time": "2023-12-01T18:55:31.965308900Z",
     "start_time": "2023-12-01T13:46:54.056694200Z"
    }
   }
  },
  {
   "cell_type": "code",
   "execution_count": 20,
   "outputs": [
    {
     "name": "stdout",
     "output_type": "stream",
     "text": [
      "Best rmse:  0.9087929784329034\n"
     ]
    }
   ],
   "source": [
    "best_params = gs.best_params['rmse']\n",
    "print(\"Best rmse: \", gs.best_score['rmse'])"
   ],
   "metadata": {
    "collapsed": false,
    "ExecuteTime": {
     "end_time": "2023-12-01T19:16:57.763343800Z",
     "start_time": "2023-12-01T19:16:57.755340600Z"
    }
   }
  },
  {
   "cell_type": "code",
   "execution_count": 21,
   "outputs": [
    {
     "data": {
      "text/plain": "{'n_epochs': 100, 'lr_all': 0.004, 'reg_all': 0.09, 'n_factors': 25}"
     },
     "execution_count": 21,
     "metadata": {},
     "output_type": "execute_result"
    }
   ],
   "source": [
    "best_params"
   ],
   "metadata": {
    "collapsed": false,
    "ExecuteTime": {
     "end_time": "2023-12-01T19:16:59.624030300Z",
     "start_time": "2023-12-01T19:16:59.576038600Z"
    }
   }
  },
  {
   "cell_type": "markdown",
   "source": [
    "# 5. Final Training and Evaluation"
   ],
   "metadata": {
    "collapsed": false
   }
  },
  {
   "cell_type": "code",
   "execution_count": 66,
   "outputs": [],
   "source": [
    "algo = SVDpp(n_epochs=best_params['n_epochs'], lr_all=best_params['lr_all'], reg_all=best_params['reg_all'], n_factors=best_params['n_factors'])"
   ],
   "metadata": {
    "collapsed": false,
    "ExecuteTime": {
     "end_time": "2023-12-01T20:12:40.620767600Z",
     "start_time": "2023-12-01T20:12:40.610765300Z"
    }
   }
  },
  {
   "cell_type": "code",
   "execution_count": 67,
   "outputs": [
    {
     "data": {
      "text/plain": "<surprise.prediction_algorithms.matrix_factorization.SVDpp at 0x1118286e7a0>"
     },
     "execution_count": 67,
     "metadata": {},
     "output_type": "execute_result"
    }
   ],
   "source": [
    "# train the final model\n",
    "from surprise.model_selection import train_test_split\n",
    "\n",
    "trainset, testset =  train_test_split(data, test_size=0.25)\n",
    "algo.fit(trainset)"
   ],
   "metadata": {
    "collapsed": false,
    "ExecuteTime": {
     "end_time": "2023-12-01T20:13:52.211844100Z",
     "start_time": "2023-12-01T20:12:41.026976800Z"
    }
   }
  },
  {
   "cell_type": "code",
   "execution_count": 25,
   "outputs": [
    {
     "name": "stdout",
     "output_type": "stream",
     "text": [
      "RMSE: 0.9137\n"
     ]
    },
    {
     "data": {
      "text/plain": "0.9136910619732397"
     },
     "execution_count": 25,
     "metadata": {},
     "output_type": "execute_result"
    }
   ],
   "source": [
    "from surprise import accuracy\n",
    "predictions = algo.test(testset)\n",
    "\n",
    "# Then compute RMSE\n",
    "accuracy.rmse(predictions)"
   ],
   "metadata": {
    "collapsed": false,
    "ExecuteTime": {
     "end_time": "2023-12-01T19:20:20.105959300Z",
     "start_time": "2023-12-01T19:20:16.140216900Z"
    }
   }
  },
  {
   "cell_type": "markdown",
   "source": [
    "# 6. Recommendations"
   ],
   "metadata": {
    "collapsed": false
   }
  },
  {
   "cell_type": "code",
   "execution_count": 68,
   "outputs": [
    {
     "data": {
      "text/plain": "<surprise.prediction_algorithms.matrix_factorization.SVDpp at 0x1118286c9d0>"
     },
     "execution_count": 68,
     "metadata": {},
     "output_type": "execute_result"
    }
   ],
   "source": [
    "# Now, after the evaluation stage, let's train the model on the whole dataset\n",
    "algo = SVDpp(n_epochs=best_params['n_epochs'], lr_all=best_params['lr_all'], reg_all=best_params['reg_all'], n_factors=best_params['n_factors'])\n",
    "trainset = data.build_full_trainset()\n",
    "algo.fit(trainset)"
   ],
   "metadata": {
    "collapsed": false,
    "ExecuteTime": {
     "end_time": "2023-12-01T20:15:59.490366Z",
     "start_time": "2023-12-01T20:13:52.274899Z"
    }
   }
  },
  {
   "cell_type": "code",
   "execution_count": 69,
   "outputs": [],
   "source": [
    "df_item = pd.read_csv('../data/raw/ml-100k/u.item', sep='|', header=None, names=['movie_id', 'movie_title', 'release_date', 'video_release_date', 'IMDb_URL', 'unknown', 'Action', 'Adventure', 'Animation', 'Children', 'Comedy', 'Crime', 'Documentary', 'Drama', 'Fantasy', 'Film-Noir', 'Horror', 'Musical', 'Mystery', 'Romance', 'Sci-Fi', 'Thriller', 'War', 'Western'], encoding='latin-1')"
   ],
   "metadata": {
    "collapsed": false,
    "ExecuteTime": {
     "end_time": "2023-12-01T20:15:59.535305300Z",
     "start_time": "2023-12-01T20:15:59.494050900Z"
    }
   }
  },
  {
   "cell_type": "code",
   "execution_count": 70,
   "outputs": [
    {
     "data": {
      "text/plain": "   movie_id        movie_title release_date  video_release_date  \\\n0         1   Toy Story (1995)  01-Jan-1995                 NaN   \n1         2   GoldenEye (1995)  01-Jan-1995                 NaN   \n2         3  Four Rooms (1995)  01-Jan-1995                 NaN   \n3         4  Get Shorty (1995)  01-Jan-1995                 NaN   \n4         5     Copycat (1995)  01-Jan-1995                 NaN   \n\n                                            IMDb_URL  unknown  Action  \\\n0  http://us.imdb.com/M/title-exact?Toy%20Story%2...        0       0   \n1  http://us.imdb.com/M/title-exact?GoldenEye%20(...        0       1   \n2  http://us.imdb.com/M/title-exact?Four%20Rooms%...        0       0   \n3  http://us.imdb.com/M/title-exact?Get%20Shorty%...        0       1   \n4  http://us.imdb.com/M/title-exact?Copycat%20(1995)        0       0   \n\n   Adventure  Animation  Children  ...  Fantasy  Film-Noir  Horror  Musical  \\\n0          0          1         1  ...        0          0       0        0   \n1          1          0         0  ...        0          0       0        0   \n2          0          0         0  ...        0          0       0        0   \n3          0          0         0  ...        0          0       0        0   \n4          0          0         0  ...        0          0       0        0   \n\n   Mystery  Romance  Sci-Fi  Thriller  War  Western  \n0        0        0       0         0    0        0  \n1        0        0       0         1    0        0  \n2        0        0       0         1    0        0  \n3        0        0       0         0    0        0  \n4        0        0       0         1    0        0  \n\n[5 rows x 24 columns]",
      "text/html": "<div>\n<style scoped>\n    .dataframe tbody tr th:only-of-type {\n        vertical-align: middle;\n    }\n\n    .dataframe tbody tr th {\n        vertical-align: top;\n    }\n\n    .dataframe thead th {\n        text-align: right;\n    }\n</style>\n<table border=\"1\" class=\"dataframe\">\n  <thead>\n    <tr style=\"text-align: right;\">\n      <th></th>\n      <th>movie_id</th>\n      <th>movie_title</th>\n      <th>release_date</th>\n      <th>video_release_date</th>\n      <th>IMDb_URL</th>\n      <th>unknown</th>\n      <th>Action</th>\n      <th>Adventure</th>\n      <th>Animation</th>\n      <th>Children</th>\n      <th>...</th>\n      <th>Fantasy</th>\n      <th>Film-Noir</th>\n      <th>Horror</th>\n      <th>Musical</th>\n      <th>Mystery</th>\n      <th>Romance</th>\n      <th>Sci-Fi</th>\n      <th>Thriller</th>\n      <th>War</th>\n      <th>Western</th>\n    </tr>\n  </thead>\n  <tbody>\n    <tr>\n      <th>0</th>\n      <td>1</td>\n      <td>Toy Story (1995)</td>\n      <td>01-Jan-1995</td>\n      <td>NaN</td>\n      <td>http://us.imdb.com/M/title-exact?Toy%20Story%2...</td>\n      <td>0</td>\n      <td>0</td>\n      <td>0</td>\n      <td>1</td>\n      <td>1</td>\n      <td>...</td>\n      <td>0</td>\n      <td>0</td>\n      <td>0</td>\n      <td>0</td>\n      <td>0</td>\n      <td>0</td>\n      <td>0</td>\n      <td>0</td>\n      <td>0</td>\n      <td>0</td>\n    </tr>\n    <tr>\n      <th>1</th>\n      <td>2</td>\n      <td>GoldenEye (1995)</td>\n      <td>01-Jan-1995</td>\n      <td>NaN</td>\n      <td>http://us.imdb.com/M/title-exact?GoldenEye%20(...</td>\n      <td>0</td>\n      <td>1</td>\n      <td>1</td>\n      <td>0</td>\n      <td>0</td>\n      <td>...</td>\n      <td>0</td>\n      <td>0</td>\n      <td>0</td>\n      <td>0</td>\n      <td>0</td>\n      <td>0</td>\n      <td>0</td>\n      <td>1</td>\n      <td>0</td>\n      <td>0</td>\n    </tr>\n    <tr>\n      <th>2</th>\n      <td>3</td>\n      <td>Four Rooms (1995)</td>\n      <td>01-Jan-1995</td>\n      <td>NaN</td>\n      <td>http://us.imdb.com/M/title-exact?Four%20Rooms%...</td>\n      <td>0</td>\n      <td>0</td>\n      <td>0</td>\n      <td>0</td>\n      <td>0</td>\n      <td>...</td>\n      <td>0</td>\n      <td>0</td>\n      <td>0</td>\n      <td>0</td>\n      <td>0</td>\n      <td>0</td>\n      <td>0</td>\n      <td>1</td>\n      <td>0</td>\n      <td>0</td>\n    </tr>\n    <tr>\n      <th>3</th>\n      <td>4</td>\n      <td>Get Shorty (1995)</td>\n      <td>01-Jan-1995</td>\n      <td>NaN</td>\n      <td>http://us.imdb.com/M/title-exact?Get%20Shorty%...</td>\n      <td>0</td>\n      <td>1</td>\n      <td>0</td>\n      <td>0</td>\n      <td>0</td>\n      <td>...</td>\n      <td>0</td>\n      <td>0</td>\n      <td>0</td>\n      <td>0</td>\n      <td>0</td>\n      <td>0</td>\n      <td>0</td>\n      <td>0</td>\n      <td>0</td>\n      <td>0</td>\n    </tr>\n    <tr>\n      <th>4</th>\n      <td>5</td>\n      <td>Copycat (1995)</td>\n      <td>01-Jan-1995</td>\n      <td>NaN</td>\n      <td>http://us.imdb.com/M/title-exact?Copycat%20(1995)</td>\n      <td>0</td>\n      <td>0</td>\n      <td>0</td>\n      <td>0</td>\n      <td>0</td>\n      <td>...</td>\n      <td>0</td>\n      <td>0</td>\n      <td>0</td>\n      <td>0</td>\n      <td>0</td>\n      <td>0</td>\n      <td>0</td>\n      <td>1</td>\n      <td>0</td>\n      <td>0</td>\n    </tr>\n  </tbody>\n</table>\n<p>5 rows × 24 columns</p>\n</div>"
     },
     "execution_count": 70,
     "metadata": {},
     "output_type": "execute_result"
    }
   ],
   "source": [
    "df_item.head()"
   ],
   "metadata": {
    "collapsed": false,
    "ExecuteTime": {
     "end_time": "2023-12-01T20:15:59.544342200Z",
     "start_time": "2023-12-01T20:15:59.507418Z"
    }
   }
  },
  {
   "cell_type": "code",
   "execution_count": 71,
   "outputs": [],
   "source": [
    "def recommend_movies(algo, user_id, top_k):\n",
    "    # First, the algorithm will predict ratings for each unseen movie, second, it will output the top k films with the highest (predicted) rating\n",
    "    seen_movies = set(dataset[dataset['user_id']==user_id]['item_id'].tolist())\n",
    "    all_movies = set(dataset['item_id'].tolist())\n",
    "    unseen_movies = all_movies - seen_movies\n",
    "    results = []\n",
    "    for movie in unseen_movies:\n",
    "        results.append((movie,algo.predict(user_id, movie).est))\n",
    "    results.sort(key=lambda x: x[-1], reverse=True)\n",
    "    # Names of movies\n",
    "    results = [df_item[df_item['movie_id']==r[0]]['movie_title'].item() for r in results[:top_k]]\n",
    "    return results"
   ],
   "metadata": {
    "collapsed": false,
    "ExecuteTime": {
     "end_time": "2023-12-01T20:15:59.544342200Z",
     "start_time": "2023-12-01T20:15:59.524415700Z"
    }
   }
  },
  {
   "cell_type": "code",
   "execution_count": 72,
   "outputs": [
    {
     "name": "stdout",
     "output_type": "stream",
     "text": [
      "Movies recommendations for user 12\n",
      "1. Shawshank Redemption, The (1994)\n",
      "2. Pather Panchali (1955)\n",
      "3. Braveheart (1995)\n",
      "4. Titanic (1997)\n",
      "5. Saint of Fort Washington, The (1993)\n"
     ]
    }
   ],
   "source": [
    "user_id = np.random.choice(dataset['user_id'].tolist())\n",
    "print(f\"Movies recommendations for user {user_id}\")\n",
    "for idx, movie_title in enumerate(recommend_movies(algo, user_id, top_k=5)):\n",
    "    print(f\"{idx+1}. {movie_title}\")"
   ],
   "metadata": {
    "collapsed": false,
    "ExecuteTime": {
     "end_time": "2023-12-01T20:15:59.652327300Z",
     "start_time": "2023-12-01T20:15:59.540325100Z"
    }
   }
  },
  {
   "cell_type": "code",
   "execution_count": 74,
   "outputs": [],
   "source": [
    "# Saving the model\n",
    "from surprise import dump\n",
    "dump.dump(\"../models/model.pickle\", algo=algo)\n"
   ],
   "metadata": {
    "collapsed": false,
    "ExecuteTime": {
     "end_time": "2023-12-01T20:15:59.763329300Z",
     "start_time": "2023-12-01T20:15:59.668321800Z"
    }
   }
  }
 ],
 "metadata": {
  "kernelspec": {
   "display_name": "Python 3",
   "language": "python",
   "name": "python3"
  },
  "language_info": {
   "codemirror_mode": {
    "name": "ipython",
    "version": 2
   },
   "file_extension": ".py",
   "mimetype": "text/x-python",
   "name": "python",
   "nbconvert_exporter": "python",
   "pygments_lexer": "ipython2",
   "version": "2.7.6"
  }
 },
 "nbformat": 4,
 "nbformat_minor": 0
}
