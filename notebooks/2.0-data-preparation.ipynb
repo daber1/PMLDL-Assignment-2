{
 "cells": [
  {
   "cell_type": "markdown",
   "source": [
    "# Handling missing values"
   ],
   "metadata": {
    "collapsed": false
   }
  },
  {
   "cell_type": "code",
   "execution_count": 1,
   "outputs": [],
   "source": [
    "# Load libraries\n",
    "import pandas as pd\n",
    "import numpy as np"
   ],
   "metadata": {
    "collapsed": false,
    "ExecuteTime": {
     "end_time": "2023-11-30T10:06:07.794950200Z",
     "start_time": "2023-11-30T10:06:07.360146900Z"
    }
   }
  },
  {
   "cell_type": "code",
   "execution_count": 12,
   "outputs": [],
   "source": [
    "# Load data\n",
    "df_data = pd.read_csv('../data/raw/ml-100k/u.data', sep='\\t', header=None, names=['user_id', 'item_id', 'rating', 'timestamp'])\n",
    "df_item = pd.read_csv('../data/raw/ml-100k/u.item', sep='|', header=None, names=['movie_id', 'movie_title', 'release_date', 'video_release_date', 'IMDb_URL', 'unknown', 'Action', 'Adventure', 'Animation', 'Children', 'Comedy', 'Crime', 'Documentary', 'Drama', 'Fantasy', 'Film-Noir', 'Horror', 'Musical', 'Mystery', 'Romance', 'Sci-Fi', 'Thriller', 'War', 'Western'], encoding='latin-1')\n",
    "df_user = pd.read_csv('../data/raw/ml-100k/u.user', sep='|', header=None, names=['user_id','age','gender','occupation', 'zipcode'])"
   ],
   "metadata": {
    "collapsed": false,
    "ExecuteTime": {
     "end_time": "2023-11-30T11:13:40.104939900Z",
     "start_time": "2023-11-30T11:13:40.036941100Z"
    }
   }
  },
  {
   "cell_type": "code",
   "execution_count": 13,
   "outputs": [
    {
     "data": {
      "text/plain": "user_id      0\nitem_id      0\nrating       0\ntimestamp    0\ndtype: int64"
     },
     "execution_count": 13,
     "metadata": {},
     "output_type": "execute_result"
    }
   ],
   "source": [
    "# Check for missing values in df_data\n",
    "df_data.isnull().sum()"
   ],
   "metadata": {
    "collapsed": false,
    "ExecuteTime": {
     "end_time": "2023-11-30T11:13:40.991663600Z",
     "start_time": "2023-11-30T11:13:40.970963400Z"
    }
   }
  },
  {
   "cell_type": "code",
   "execution_count": 14,
   "outputs": [
    {
     "data": {
      "text/plain": "movie_id                 0\nmovie_title              0\nrelease_date             1\nvideo_release_date    1682\nIMDb_URL                 3\nunknown                  0\nAction                   0\nAdventure                0\nAnimation                0\nChildren                 0\nComedy                   0\nCrime                    0\nDocumentary              0\nDrama                    0\nFantasy                  0\nFilm-Noir                0\nHorror                   0\nMusical                  0\nMystery                  0\nRomance                  0\nSci-Fi                   0\nThriller                 0\nWar                      0\nWestern                  0\ndtype: int64"
     },
     "execution_count": 14,
     "metadata": {},
     "output_type": "execute_result"
    }
   ],
   "source": [
    "# Check for missing values in df_item\n",
    "df_item.isnull().sum()"
   ],
   "metadata": {
    "collapsed": false,
    "ExecuteTime": {
     "end_time": "2023-11-30T11:13:41.528950800Z",
     "start_time": "2023-11-30T11:13:41.516950Z"
    }
   }
  },
  {
   "cell_type": "code",
   "execution_count": 15,
   "outputs": [
    {
     "data": {
      "text/plain": "user_id       0\nage           0\ngender        0\noccupation    0\nzipcode       0\ndtype: int64"
     },
     "execution_count": 15,
     "metadata": {},
     "output_type": "execute_result"
    }
   ],
   "source": [
    "# Check for missing values in df_user\n",
    "df_user.isnull().sum()"
   ],
   "metadata": {
    "collapsed": false,
    "ExecuteTime": {
     "end_time": "2023-11-30T11:13:42.245743500Z",
     "start_time": "2023-11-30T11:13:42.232740800Z"
    }
   }
  },
  {
   "cell_type": "code",
   "execution_count": 16,
   "outputs": [],
   "source": [
    "# We see that there are no missing values in any of the dataframes except for df_item\n",
    "# We know that there are 1682 movies in total, so we can just delete the column video_release_date\n",
    "df_item.drop('video_release_date', axis=1, inplace=True)"
   ],
   "metadata": {
    "collapsed": false,
    "ExecuteTime": {
     "end_time": "2023-11-30T11:13:43.390917500Z",
     "start_time": "2023-11-30T11:13:43.364130Z"
    }
   }
  },
  {
   "cell_type": "code",
   "execution_count": 17,
   "outputs": [],
   "source": [
    "# For the release_date, we can replace it with the median value, but beforehand we need to convert the release_date to a numeric value\n",
    "df_item['release_date'] = pd.to_datetime(df_item['release_date'])\n",
    "df_item['release_date'].fillna(df_item['release_date'].median(), inplace=True)"
   ],
   "metadata": {
    "collapsed": false,
    "ExecuteTime": {
     "end_time": "2023-11-30T11:15:09.842703800Z",
     "start_time": "2023-11-30T11:15:09.831324900Z"
    }
   }
  },
  {
   "cell_type": "code",
   "execution_count": 23,
   "outputs": [],
   "source": [
    "# Also, let's delete the IMDb_URL column as it seems to be irrelevant\n",
    "df_item.drop('IMDb_URL', axis=1, inplace=True)"
   ],
   "metadata": {
    "collapsed": false,
    "ExecuteTime": {
     "end_time": "2023-11-30T11:16:28.888741300Z",
     "start_time": "2023-11-30T11:16:28.865731100Z"
    }
   }
  },
  {
   "cell_type": "code",
   "execution_count": 24,
   "outputs": [
    {
     "data": {
      "text/plain": "movie_id        0\nmovie_title     0\nrelease_date    0\nunknown         0\nAction          0\nAdventure       0\nAnimation       0\nChildren        0\nComedy          0\nCrime           0\nDocumentary     0\nDrama           0\nFantasy         0\nFilm-Noir       0\nHorror          0\nMusical         0\nMystery         0\nRomance         0\nSci-Fi          0\nThriller        0\nWar             0\nWestern         0\ndtype: int64"
     },
     "execution_count": 24,
     "metadata": {},
     "output_type": "execute_result"
    }
   ],
   "source": [
    "df_item.isnull().sum()"
   ],
   "metadata": {
    "collapsed": false,
    "ExecuteTime": {
     "end_time": "2023-11-30T11:16:29.740752800Z",
     "start_time": "2023-11-30T11:16:29.724737200Z"
    }
   }
  },
  {
   "cell_type": "code",
   "execution_count": 33,
   "outputs": [],
   "source": [
    "# Let's merge the dataframes\n",
    "df = pd.merge(df_data, df_item, left_on='item_id', right_on='movie_id')\n",
    "df = pd.merge(df, df_user, on='user_id')"
   ],
   "metadata": {
    "collapsed": false,
    "ExecuteTime": {
     "end_time": "2023-11-30T11:29:41.826559800Z",
     "start_time": "2023-11-30T11:29:41.750570700Z"
    }
   }
  },
  {
   "cell_type": "code",
   "execution_count": 34,
   "outputs": [
    {
     "data": {
      "text/plain": "   user_id  item_id  rating  timestamp  movie_id release_date  unknown  \\\n0      196      242       3  881250949       242   1997-01-24        0   \n1      196      257       2  881251577       257   1997-07-04        0   \n2      196      111       4  881251793       111   1996-04-26        0   \n3      196       25       4  881251955        25   1996-03-08        0   \n4      196      382       4  881251843       382   1994-01-01        0   \n\n   Action  Adventure  Animation  ...  occupation_marketing  occupation_none  \\\n0       0          0          0  ...                     0                0   \n1       1          1          0  ...                     0                0   \n2       0          0          0  ...                     0                0   \n3       0          0          0  ...                     0                0   \n4       0          0          0  ...                     0                0   \n\n   occupation_other  occupation_programmer  occupation_retired  \\\n0                 0                      0                   0   \n1                 0                      0                   0   \n2                 0                      0                   0   \n3                 0                      0                   0   \n4                 0                      0                   0   \n\n   occupation_salesman  occupation_scientist  occupation_student  \\\n0                    0                     0                   0   \n1                    0                     0                   0   \n2                    0                     0                   0   \n3                    0                     0                   0   \n4                    0                     0                   0   \n\n   occupation_technician  occupation_writer  \n0                      0                  1  \n1                      0                  1  \n2                      0                  1  \n3                      0                  1  \n4                      0                  1  \n\n[5 rows x 49 columns]",
      "text/html": "<div>\n<style scoped>\n    .dataframe tbody tr th:only-of-type {\n        vertical-align: middle;\n    }\n\n    .dataframe tbody tr th {\n        vertical-align: top;\n    }\n\n    .dataframe thead th {\n        text-align: right;\n    }\n</style>\n<table border=\"1\" class=\"dataframe\">\n  <thead>\n    <tr style=\"text-align: right;\">\n      <th></th>\n      <th>user_id</th>\n      <th>item_id</th>\n      <th>rating</th>\n      <th>timestamp</th>\n      <th>movie_id</th>\n      <th>release_date</th>\n      <th>unknown</th>\n      <th>Action</th>\n      <th>Adventure</th>\n      <th>Animation</th>\n      <th>...</th>\n      <th>occupation_marketing</th>\n      <th>occupation_none</th>\n      <th>occupation_other</th>\n      <th>occupation_programmer</th>\n      <th>occupation_retired</th>\n      <th>occupation_salesman</th>\n      <th>occupation_scientist</th>\n      <th>occupation_student</th>\n      <th>occupation_technician</th>\n      <th>occupation_writer</th>\n    </tr>\n  </thead>\n  <tbody>\n    <tr>\n      <th>0</th>\n      <td>196</td>\n      <td>242</td>\n      <td>3</td>\n      <td>881250949</td>\n      <td>242</td>\n      <td>1997-01-24</td>\n      <td>0</td>\n      <td>0</td>\n      <td>0</td>\n      <td>0</td>\n      <td>...</td>\n      <td>0</td>\n      <td>0</td>\n      <td>0</td>\n      <td>0</td>\n      <td>0</td>\n      <td>0</td>\n      <td>0</td>\n      <td>0</td>\n      <td>0</td>\n      <td>1</td>\n    </tr>\n    <tr>\n      <th>1</th>\n      <td>196</td>\n      <td>257</td>\n      <td>2</td>\n      <td>881251577</td>\n      <td>257</td>\n      <td>1997-07-04</td>\n      <td>0</td>\n      <td>1</td>\n      <td>1</td>\n      <td>0</td>\n      <td>...</td>\n      <td>0</td>\n      <td>0</td>\n      <td>0</td>\n      <td>0</td>\n      <td>0</td>\n      <td>0</td>\n      <td>0</td>\n      <td>0</td>\n      <td>0</td>\n      <td>1</td>\n    </tr>\n    <tr>\n      <th>2</th>\n      <td>196</td>\n      <td>111</td>\n      <td>4</td>\n      <td>881251793</td>\n      <td>111</td>\n      <td>1996-04-26</td>\n      <td>0</td>\n      <td>0</td>\n      <td>0</td>\n      <td>0</td>\n      <td>...</td>\n      <td>0</td>\n      <td>0</td>\n      <td>0</td>\n      <td>0</td>\n      <td>0</td>\n      <td>0</td>\n      <td>0</td>\n      <td>0</td>\n      <td>0</td>\n      <td>1</td>\n    </tr>\n    <tr>\n      <th>3</th>\n      <td>196</td>\n      <td>25</td>\n      <td>4</td>\n      <td>881251955</td>\n      <td>25</td>\n      <td>1996-03-08</td>\n      <td>0</td>\n      <td>0</td>\n      <td>0</td>\n      <td>0</td>\n      <td>...</td>\n      <td>0</td>\n      <td>0</td>\n      <td>0</td>\n      <td>0</td>\n      <td>0</td>\n      <td>0</td>\n      <td>0</td>\n      <td>0</td>\n      <td>0</td>\n      <td>1</td>\n    </tr>\n    <tr>\n      <th>4</th>\n      <td>196</td>\n      <td>382</td>\n      <td>4</td>\n      <td>881251843</td>\n      <td>382</td>\n      <td>1994-01-01</td>\n      <td>0</td>\n      <td>0</td>\n      <td>0</td>\n      <td>0</td>\n      <td>...</td>\n      <td>0</td>\n      <td>0</td>\n      <td>0</td>\n      <td>0</td>\n      <td>0</td>\n      <td>0</td>\n      <td>0</td>\n      <td>0</td>\n      <td>0</td>\n      <td>1</td>\n    </tr>\n  </tbody>\n</table>\n<p>5 rows × 49 columns</p>\n</div>"
     },
     "execution_count": 34,
     "metadata": {},
     "output_type": "execute_result"
    }
   ],
   "source": [
    "# Let's encode the gender column\n",
    "df['gender'] = df['gender'].apply(lambda x: 1 if x == 'M' else 0)\n",
    "# df.head()\n",
    "# Also, let's delete the movie_title\n",
    "df.drop('movie_title', axis=1, inplace=True)\n",
    "# And encode the occupation column as 0 or 1\n",
    "df = pd.get_dummies(df, columns=['occupation'], dtype='int64')\n",
    "df.head()"
   ],
   "metadata": {
    "collapsed": false,
    "ExecuteTime": {
     "end_time": "2023-11-30T11:29:42.658989100Z",
     "start_time": "2023-11-30T11:29:42.554000700Z"
    }
   }
  },
  {
   "cell_type": "code",
   "execution_count": 41,
   "outputs": [],
   "source": [
    "# Let's produce user-item matrix\n",
    "user_item_matrix = df_data.drop('timestamp', axis=1)"
   ],
   "metadata": {
    "collapsed": false,
    "ExecuteTime": {
     "end_time": "2023-11-30T12:49:10.198896400Z",
     "start_time": "2023-11-30T12:49:10.172860500Z"
    }
   }
  },
  {
   "cell_type": "code",
   "execution_count": 43,
   "outputs": [],
   "source": [
    "user_item_matrix.to_csv('../data/interim/user_item_matrix.csv', index=False)"
   ],
   "metadata": {
    "collapsed": false,
    "ExecuteTime": {
     "end_time": "2023-11-30T12:49:19.715616800Z",
     "start_time": "2023-11-30T12:49:19.594617900Z"
    }
   }
  }
 ],
 "metadata": {
  "kernelspec": {
   "display_name": "Python 3",
   "language": "python",
   "name": "python3"
  },
  "language_info": {
   "codemirror_mode": {
    "name": "ipython",
    "version": 2
   },
   "file_extension": ".py",
   "mimetype": "text/x-python",
   "name": "python",
   "nbconvert_exporter": "python",
   "pygments_lexer": "ipython2",
   "version": "2.7.6"
  }
 },
 "nbformat": 4,
 "nbformat_minor": 0
}
